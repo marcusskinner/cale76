{
 "cells": [
  {
   "cell_type": "markdown",
   "id": "6d4bec87-7f16-4212-83a3-ec389d38f18a",
   "metadata": {},
   "source": [
    "# Agent Cale\n",
    "Goal: Win against Easy AI (Ryan)\n",
    "\n",
    "# Hero\n",
    "Soldier 76\n",
    "\n",
    "# Rewards\n",
    "Winning\n",
    "Kill\n",
    "Death\n",
    "Damage Given\n",
    "Damage Taken\n",
    "Number of Targets\n",
    "Healing Given\n",
    "Objective Time\n",
    "Proximity to Teammates\n",
    "\n",
    "# Value Function\n",
    "\n",
    "# Policies\n",
    "\n",
    "# Model(s)\n",
    "Yolo\n",
    "Wall Detection\n",
    "Ledge Detection\n",
    "\n",
    "\n",
    "# State Space Definition (Game State)\n",
    "## Yolo Object Detection\n",
    "Enemy Detection (health, goespacial) \\\n",
    "Teammate Detection (health, goespacial) \\\n",
    "Geospacial Recognition \\\n",
    "Players Alive \n",
    "\n",
    "# State Space (Pixels)\n",
    "\n",
    "\n",
    "\n",
    "# Action Space\n",
    "W: Move forward \\\n",
    "A: Move Left \\\n",
    "D: Move Right \\\n",
    "S: Move Back \\\n",
    "Mouse Delta: Move mouse by delta (x, y) \\\n",
    "M1: Shoot \\\n",
    "M2: Rocket \\\n",
    "E: Healing Pad \\\n",
    "Shift: Sprint \\\n",
    "Space: Jump \\\n",
    "Q: Visor \\\n",
    "V: Melee "
   ]
  },
  {
   "cell_type": "code",
   "execution_count": null,
   "id": "e131d117-ce73-4205-ad8c-c641268a1ff8",
   "metadata": {},
   "outputs": [],
   "source": []
  },
  {
   "cell_type": "code",
   "execution_count": null,
   "id": "3d86eb27-8bb5-49cb-9e9c-31111cd34e27",
   "metadata": {},
   "outputs": [],
   "source": []
  },
  {
   "cell_type": "code",
   "execution_count": null,
   "id": "8483c807-d782-465c-b164-f4e70a5bab57",
   "metadata": {},
   "outputs": [],
   "source": []
  }
 ],
 "metadata": {
  "kernelspec": {
   "display_name": "Python 3 (ipykernel)",
   "language": "python",
   "name": "python3"
  },
  "language_info": {
   "codemirror_mode": {
    "name": "ipython",
    "version": 3
   },
   "file_extension": ".py",
   "mimetype": "text/x-python",
   "name": "python",
   "nbconvert_exporter": "python",
   "pygments_lexer": "ipython3",
   "version": "3.11.8"
  }
 },
 "nbformat": 4,
 "nbformat_minor": 5
}
